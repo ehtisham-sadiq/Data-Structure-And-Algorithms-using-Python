{
 "cells": [
  {
   "cell_type": "markdown",
   "id": "b84551ac",
   "metadata": {},
   "source": [
    "## Day 8: Operations on Linked List"
   ]
  },
  {
   "cell_type": "markdown",
   "id": "8ee9d2ce",
   "metadata": {},
   "source": [
    "- Traversal in Linked List\n",
    "- Insertion in Linked List\n",
    "- Concatenate two Linked List\n",
    "- Deletion from Linked List\n",
    "- Counting number of Nodes"
   ]
  },
  {
   "cell_type": "code",
   "execution_count": null,
   "id": "9ee32f09",
   "metadata": {},
   "outputs": [],
   "source": []
  }
 ],
 "metadata": {
  "kernelspec": {
   "display_name": "Python 3 (ipykernel)",
   "language": "python",
   "name": "python3"
  },
  "language_info": {
   "codemirror_mode": {
    "name": "ipython",
    "version": 3
   },
   "file_extension": ".py",
   "mimetype": "text/x-python",
   "name": "python",
   "nbconvert_exporter": "python",
   "pygments_lexer": "ipython3",
   "version": "3.8.10"
  }
 },
 "nbformat": 4,
 "nbformat_minor": 5
}
