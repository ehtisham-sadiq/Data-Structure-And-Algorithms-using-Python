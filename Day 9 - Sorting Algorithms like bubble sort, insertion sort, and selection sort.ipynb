{
 "cells": [
  {
   "cell_type": "markdown",
   "id": "0f94a070",
   "metadata": {},
   "source": [
    "## Day 9: Sorting Algorithms like bubble sort, insertion sort, and selection sort"
   ]
  },
  {
   "cell_type": "markdown",
   "id": "010bff70",
   "metadata": {},
   "source": [
    "<img src=\"images/sorting.png\">"
   ]
  },
  {
   "cell_type": "code",
   "execution_count": null,
   "id": "8fc672e5",
   "metadata": {},
   "outputs": [],
   "source": []
  },
  {
   "cell_type": "code",
   "execution_count": null,
   "id": "45b2b8f9",
   "metadata": {},
   "outputs": [],
   "source": []
  }
 ],
 "metadata": {
  "kernelspec": {
   "display_name": "Python 3 (ipykernel)",
   "language": "python",
   "name": "python3"
  },
  "language_info": {
   "codemirror_mode": {
    "name": "ipython",
    "version": 3
   },
   "file_extension": ".py",
   "mimetype": "text/x-python",
   "name": "python",
   "nbconvert_exporter": "python",
   "pygments_lexer": "ipython3",
   "version": "3.8.10"
  }
 },
 "nbformat": 4,
 "nbformat_minor": 5
}
