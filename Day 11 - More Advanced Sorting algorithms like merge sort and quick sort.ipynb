{
 "cells": [
  {
   "cell_type": "markdown",
   "id": "a433896d",
   "metadata": {},
   "source": [
    "## Day 11: More Advanced Sorting algorithms like merge sort and quick sort"
   ]
  },
  {
   "cell_type": "code",
   "execution_count": 3,
   "id": "2193b1dd",
   "metadata": {},
   "outputs": [],
   "source": [
    "# !ls images/"
   ]
  },
  {
   "cell_type": "markdown",
   "id": "1eb5b647",
   "metadata": {},
   "source": [
    "<img src=\"images/Quick-sort-vs-Merge-sort.jpg\">"
   ]
  },
  {
   "cell_type": "code",
   "execution_count": null,
   "id": "2d9133fd",
   "metadata": {},
   "outputs": [],
   "source": []
  }
 ],
 "metadata": {
  "kernelspec": {
   "display_name": "Python 3 (ipykernel)",
   "language": "python",
   "name": "python3"
  },
  "language_info": {
   "codemirror_mode": {
    "name": "ipython",
    "version": 3
   },
   "file_extension": ".py",
   "mimetype": "text/x-python",
   "name": "python",
   "nbconvert_exporter": "python",
   "pygments_lexer": "ipython3",
   "version": "3.8.10"
  }
 },
 "nbformat": 4,
 "nbformat_minor": 5
}
