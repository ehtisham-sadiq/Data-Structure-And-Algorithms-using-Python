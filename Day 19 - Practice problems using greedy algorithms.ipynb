{
 "cells": [
  {
   "cell_type": "markdown",
   "id": "91f69f83",
   "metadata": {},
   "source": [
    "## Day 19: Practice problems using greedy algorithms\n"
   ]
  },
  {
   "cell_type": "code",
   "execution_count": null,
   "id": "7b474aae",
   "metadata": {},
   "outputs": [],
   "source": []
  },
  {
   "cell_type": "code",
   "execution_count": null,
   "id": "832d47f7",
   "metadata": {},
   "outputs": [],
   "source": []
  },
  {
   "cell_type": "markdown",
   "id": "a245233b",
   "metadata": {},
   "source": [
    "<img src=\"images/GA.png\" height=400px width=400px>"
   ]
  },
  {
   "cell_type": "code",
   "execution_count": null,
   "id": "9e4aa4d4",
   "metadata": {},
   "outputs": [],
   "source": []
  }
 ],
 "metadata": {
  "kernelspec": {
   "display_name": "Python 3 (ipykernel)",
   "language": "python",
   "name": "python3"
  },
  "language_info": {
   "codemirror_mode": {
    "name": "ipython",
    "version": 3
   },
   "file_extension": ".py",
   "mimetype": "text/x-python",
   "name": "python",
   "nbconvert_exporter": "python",
   "pygments_lexer": "ipython3",
   "version": "3.8.10"
  }
 },
 "nbformat": 4,
 "nbformat_minor": 5
}
