{
 "cells": [
  {
   "cell_type": "markdown",
   "id": "1744bea7",
   "metadata": {},
   "source": [
    "## Day 18: Greedy algorithms"
   ]
  },
  {
   "cell_type": "code",
   "execution_count": null,
   "id": "250a2954",
   "metadata": {},
   "outputs": [],
   "source": []
  },
  {
   "cell_type": "markdown",
   "id": "132c0a84",
   "metadata": {},
   "source": [
    "<img src=\"images/GA.png\" height=400px width=400px>"
   ]
  },
  {
   "cell_type": "code",
   "execution_count": null,
   "id": "9c5333a4",
   "metadata": {},
   "outputs": [],
   "source": []
  }
 ],
 "metadata": {
  "kernelspec": {
   "display_name": "Python 3 (ipykernel)",
   "language": "python",
   "name": "python3"
  },
  "language_info": {
   "codemirror_mode": {
    "name": "ipython",
    "version": 3
   },
   "file_extension": ".py",
   "mimetype": "text/x-python",
   "name": "python",
   "nbconvert_exporter": "python",
   "pygments_lexer": "ipython3",
   "version": "3.8.10"
  }
 },
 "nbformat": 4,
 "nbformat_minor": 5
}
