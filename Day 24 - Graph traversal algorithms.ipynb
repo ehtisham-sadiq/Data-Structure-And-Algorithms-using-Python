{
 "cells": [
  {
   "cell_type": "markdown",
   "id": "bdd527c4",
   "metadata": {},
   "source": [
    "## Day 24: Graph traversal algorithms\n",
    "\n",
    "- ### Depth-first search\n",
    "- ### Breadth-first search\n",
    "- ### Practice Problems"
   ]
  },
  {
   "cell_type": "markdown",
   "id": "c22b2dd4",
   "metadata": {},
   "source": [
    "<img src=\"images/graph-traversal-algorithms-1.png\">"
   ]
  },
  {
   "cell_type": "code",
   "execution_count": null,
   "id": "8dda0f72",
   "metadata": {},
   "outputs": [],
   "source": []
  }
 ],
 "metadata": {
  "kernelspec": {
   "display_name": "Python 3 (ipykernel)",
   "language": "python",
   "name": "python3"
  },
  "language_info": {
   "codemirror_mode": {
    "name": "ipython",
    "version": 3
   },
   "file_extension": ".py",
   "mimetype": "text/x-python",
   "name": "python",
   "nbconvert_exporter": "python",
   "pygments_lexer": "ipython3",
   "version": "3.8.10"
  }
 },
 "nbformat": 4,
 "nbformat_minor": 5
}
