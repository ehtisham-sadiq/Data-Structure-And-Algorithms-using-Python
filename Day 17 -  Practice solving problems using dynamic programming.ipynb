{
 "cells": [
  {
   "cell_type": "markdown",
   "id": "7afcac5d",
   "metadata": {},
   "source": [
    "## Day 17: Practice solving problems using dynamic programming.\n",
    "\n"
   ]
  },
  {
   "cell_type": "code",
   "execution_count": null,
   "id": "fc90d98a",
   "metadata": {},
   "outputs": [],
   "source": []
  },
  {
   "cell_type": "markdown",
   "id": "ae73d84a",
   "metadata": {},
   "source": [
    "<img src=\"images/DP.png\">"
   ]
  },
  {
   "cell_type": "code",
   "execution_count": null,
   "id": "80f98816",
   "metadata": {},
   "outputs": [],
   "source": []
  }
 ],
 "metadata": {
  "kernelspec": {
   "display_name": "Python 3 (ipykernel)",
   "language": "python",
   "name": "python3"
  },
  "language_info": {
   "codemirror_mode": {
    "name": "ipython",
    "version": 3
   },
   "file_extension": ".py",
   "mimetype": "text/x-python",
   "name": "python",
   "nbconvert_exporter": "python",
   "pygments_lexer": "ipython3",
   "version": "3.8.10"
  }
 },
 "nbformat": 4,
 "nbformat_minor": 5
}
