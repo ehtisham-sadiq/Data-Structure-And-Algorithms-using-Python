{
 "cells": [
  {
   "cell_type": "markdown",
   "id": "d615174b",
   "metadata": {},
   "source": [
    "## Day 26: Shortest path algorithms\n",
    "\n",
    "- ### Dijkstra's algorithm\n",
    "- ### Bellman-Ford algorithm\n",
    "- ### Practice Problems"
   ]
  },
  {
   "cell_type": "code",
   "execution_count": null,
   "id": "18517fda",
   "metadata": {},
   "outputs": [],
   "source": []
  },
  {
   "cell_type": "markdown",
   "id": "d0079378",
   "metadata": {},
   "source": [
    "<img src=\"images/SPD.jpg\" height=400px width=400px>"
   ]
  },
  {
   "cell_type": "code",
   "execution_count": null,
   "id": "36a90dc4",
   "metadata": {},
   "outputs": [],
   "source": []
  }
 ],
 "metadata": {
  "kernelspec": {
   "display_name": "Python 3 (ipykernel)",
   "language": "python",
   "name": "python3"
  },
  "language_info": {
   "codemirror_mode": {
    "name": "ipython",
    "version": 3
   },
   "file_extension": ".py",
   "mimetype": "text/x-python",
   "name": "python",
   "nbconvert_exporter": "python",
   "pygments_lexer": "ipython3",
   "version": "3.8.10"
  }
 },
 "nbformat": 4,
 "nbformat_minor": 5
}
