{
 "cells": [
  {
   "cell_type": "markdown",
   "id": "4e5ba266",
   "metadata": {},
   "source": [
    "## Learning Agenda of this Notebook\n",
    "- What is Variable?\n",
    "- What is Number in Python?\n",
    "- String Data structure and its operations?\n",
    "- List data structure and its operations?\n",
    "- Tuple data structure and its operations?\n",
    "- Python Built-in functions i.e sorted, zip, map, lambda?\n",
    "- Concept of Generator and Decorator?"
   ]
  },
  {
   "cell_type": "markdown",
   "id": "68496e48",
   "metadata": {},
   "source": [
    "### What is Variable?"
   ]
  },
  {
   "cell_type": "code",
   "execution_count": 1,
   "id": "4e83b26a",
   "metadata": {},
   "outputs": [
    {
     "data": {
      "text/plain": [
       "10"
      ]
     },
     "execution_count": 1,
     "metadata": {},
     "output_type": "execute_result"
    }
   ],
   "source": [
    "# Variables\n",
    "x = 10\n",
    "x"
   ]
  },
  {
   "cell_type": "markdown",
   "id": "d747568c",
   "metadata": {},
   "source": [
    "### Data Types\n",
    "There are two categorices of datatypes in Python\n",
    "- Immutable data-type\n",
    "    - Values cannot be modified once created.\n",
    "    - i.e string, numbers, tuple\n",
    "- Mutable data-type\n",
    "    - Values can be modified once created.\n",
    "    - i.e list, dictionary, set"
   ]
  },
  {
   "cell_type": "code",
   "execution_count": null,
   "id": "a01f62e6",
   "metadata": {},
   "outputs": [],
   "source": []
  },
  {
   "cell_type": "code",
   "execution_count": null,
   "id": "5b43e0e9",
   "metadata": {},
   "outputs": [],
   "source": []
  },
  {
   "cell_type": "code",
   "execution_count": 3,
   "id": "4c4e073f",
   "metadata": {},
   "outputs": [
    {
     "name": "stdout",
     "output_type": "stream",
     "text": [
      "<class 'int'>\n",
      "<class 'float'>\n",
      "<class 'str'>\n",
      "<class 'bool'>\n",
      "<class 'complex'>\n"
     ]
    },
    {
     "data": {
      "text/plain": [
       "(5, 5.5, 'Ehtisham', True, (3+5j))"
      ]
     },
     "execution_count": 3,
     "metadata": {},
     "output_type": "execute_result"
    }
   ],
   "source": [
    "# datatypes\n",
    "# integer\n",
    "x = 5 \n",
    "# float\n",
    "y =5.5\n",
    "# string\n",
    "z = \"Ehtisham\"\n",
    "# boolean\n",
    "xy =True\n",
    "# complex\n",
    "yz = 3+5j\n",
    "\n",
    "\n",
    "print(type(x))\n",
    "print(type(y))\n",
    "print(type(z))\n",
    "print(type(xy))\n",
    "print(type(yz))\n",
    "\n",
    "x,y,z,xy,yz"
   ]
  },
  {
   "cell_type": "code",
   "execution_count": null,
   "id": "3b0e734a",
   "metadata": {},
   "outputs": [],
   "source": []
  }
 ],
 "metadata": {
  "kernelspec": {
   "display_name": "Python 3 (ipykernel)",
   "language": "python",
   "name": "python3"
  },
  "language_info": {
   "codemirror_mode": {
    "name": "ipython",
    "version": 3
   },
   "file_extension": ".py",
   "mimetype": "text/x-python",
   "name": "python",
   "nbconvert_exporter": "python",
   "pygments_lexer": "ipython3",
   "version": "3.8.10"
  }
 },
 "nbformat": 4,
 "nbformat_minor": 5
}
