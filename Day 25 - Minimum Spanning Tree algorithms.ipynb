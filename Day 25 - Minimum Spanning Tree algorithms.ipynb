{
 "cells": [
  {
   "cell_type": "markdown",
   "id": "75669e43",
   "metadata": {},
   "source": [
    "## Day 25: Minimum Spanning Tree algorithms\n",
    "\n",
    "- ### Kruskal's algorithm\n",
    "- ### Prim's algorithm\n",
    "- ### Practice Problems"
   ]
  },
  {
   "cell_type": "markdown",
   "id": "b4fde32d",
   "metadata": {},
   "source": [
    "<img src=\"images/mst.png\">"
   ]
  },
  {
   "cell_type": "code",
   "execution_count": null,
   "id": "3c7c89b2",
   "metadata": {},
   "outputs": [],
   "source": []
  }
 ],
 "metadata": {
  "kernelspec": {
   "display_name": "Python 3 (ipykernel)",
   "language": "python",
   "name": "python3"
  },
  "language_info": {
   "codemirror_mode": {
    "name": "ipython",
    "version": 3
   },
   "file_extension": ".py",
   "mimetype": "text/x-python",
   "name": "python",
   "nbconvert_exporter": "python",
   "pygments_lexer": "ipython3",
   "version": "3.8.10"
  }
 },
 "nbformat": 4,
 "nbformat_minor": 5
}
