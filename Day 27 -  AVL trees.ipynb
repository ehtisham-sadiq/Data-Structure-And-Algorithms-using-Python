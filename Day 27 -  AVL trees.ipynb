{
 "cells": [
  {
   "cell_type": "markdown",
   "id": "e4dfe99b",
   "metadata": {},
   "source": [
    "## Day 27 : AVL trees"
   ]
  },
  {
   "cell_type": "markdown",
   "id": "258bc6eb",
   "metadata": {},
   "source": [
    "<img src=\"images/avl-tree27.png\" height=400px width=400px>"
   ]
  },
  {
   "cell_type": "code",
   "execution_count": null,
   "id": "b2d40d04",
   "metadata": {},
   "outputs": [],
   "source": []
  }
 ],
 "metadata": {
  "kernelspec": {
   "display_name": "Python 3 (ipykernel)",
   "language": "python",
   "name": "python3"
  },
  "language_info": {
   "codemirror_mode": {
    "name": "ipython",
    "version": 3
   },
   "file_extension": ".py",
   "mimetype": "text/x-python",
   "name": "python",
   "nbconvert_exporter": "python",
   "pygments_lexer": "ipython3",
   "version": "3.8.10"
  }
 },
 "nbformat": 4,
 "nbformat_minor": 5
}
