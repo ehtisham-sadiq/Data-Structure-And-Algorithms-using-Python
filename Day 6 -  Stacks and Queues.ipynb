{
 "cells": [
  {
   "cell_type": "markdown",
   "id": "7697ee3f",
   "metadata": {},
   "source": [
    "## Day 6:  Stacks and Queues"
   ]
  },
  {
   "cell_type": "markdown",
   "id": "55f1424f",
   "metadata": {},
   "source": [
    "<img src=\"images/stackvsqueue.png\">"
   ]
  },
  {
   "cell_type": "code",
   "execution_count": null,
   "id": "00c961c8",
   "metadata": {},
   "outputs": [],
   "source": []
  }
 ],
 "metadata": {
  "kernelspec": {
   "display_name": "Python 3 (ipykernel)",
   "language": "python",
   "name": "python3"
  },
  "language_info": {
   "codemirror_mode": {
    "name": "ipython",
    "version": 3
   },
   "file_extension": ".py",
   "mimetype": "text/x-python",
   "name": "python",
   "nbconvert_exporter": "python",
   "pygments_lexer": "ipython3",
   "version": "3.8.10"
  }
 },
 "nbformat": 4,
 "nbformat_minor": 5
}
