{
 "cells": [
  {
   "cell_type": "markdown",
   "id": "9bfdadb6",
   "metadata": {},
   "source": [
    "## Day 15: Recursion and practice solving problems"
   ]
  },
  {
   "cell_type": "code",
   "execution_count": null,
   "id": "58ea386f",
   "metadata": {},
   "outputs": [],
   "source": []
  },
  {
   "cell_type": "markdown",
   "id": "74e2bc25",
   "metadata": {},
   "source": [
    "<img src=\"images/recursion.jpeg\" height=400px width=400px>"
   ]
  },
  {
   "cell_type": "code",
   "execution_count": null,
   "id": "69bd6dff",
   "metadata": {},
   "outputs": [],
   "source": []
  }
 ],
 "metadata": {
  "kernelspec": {
   "display_name": "Python 3 (ipykernel)",
   "language": "python",
   "name": "python3"
  },
  "language_info": {
   "codemirror_mode": {
    "name": "ipython",
    "version": 3
   },
   "file_extension": ".py",
   "mimetype": "text/x-python",
   "name": "python",
   "nbconvert_exporter": "python",
   "pygments_lexer": "ipython3",
   "version": "3.8.10"
  }
 },
 "nbformat": 4,
 "nbformat_minor": 5
}
