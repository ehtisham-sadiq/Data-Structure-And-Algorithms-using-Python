{
 "cells": [
  {
   "cell_type": "markdown",
   "id": "a8c78a91",
   "metadata": {},
   "source": [
    "## Day 10: Practice implementing and analyzing time and space complexity of Sorting Algorithms"
   ]
  },
  {
   "cell_type": "markdown",
   "id": "35050f58",
   "metadata": {},
   "source": [
    "<img src=\"images/sorting.png\">"
   ]
  },
  {
   "cell_type": "code",
   "execution_count": null,
   "id": "2f178c57",
   "metadata": {},
   "outputs": [],
   "source": []
  }
 ],
 "metadata": {
  "kernelspec": {
   "display_name": "Python 3 (ipykernel)",
   "language": "python",
   "name": "python3"
  },
  "language_info": {
   "codemirror_mode": {
    "name": "ipython",
    "version": 3
   },
   "file_extension": ".py",
   "mimetype": "text/x-python",
   "name": "python",
   "nbconvert_exporter": "python",
   "pygments_lexer": "ipython3",
   "version": "3.8.10"
  }
 },
 "nbformat": 4,
 "nbformat_minor": 5
}
