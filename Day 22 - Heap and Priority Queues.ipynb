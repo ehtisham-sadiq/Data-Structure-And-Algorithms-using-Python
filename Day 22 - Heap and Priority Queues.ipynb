{
 "cells": [
  {
   "cell_type": "markdown",
   "id": "b246822c",
   "metadata": {},
   "source": [
    "## Day 22 : Heap and Priority Queues\n",
    "\n",
    "- ### MinHeap\n",
    "- ### MaxHeap"
   ]
  },
  {
   "cell_type": "code",
   "execution_count": null,
   "id": "549638b3",
   "metadata": {},
   "outputs": [],
   "source": []
  },
  {
   "cell_type": "markdown",
   "id": "2d3bb2be",
   "metadata": {},
   "source": [
    "<img src=\"images/heap.png\" height=400px width=400px>"
   ]
  },
  {
   "cell_type": "code",
   "execution_count": null,
   "id": "53c0c179",
   "metadata": {},
   "outputs": [],
   "source": []
  },
  {
   "cell_type": "code",
   "execution_count": null,
   "id": "327ee0d6",
   "metadata": {},
   "outputs": [],
   "source": []
  },
  {
   "cell_type": "code",
   "execution_count": null,
   "id": "4aba7e30",
   "metadata": {},
   "outputs": [],
   "source": []
  }
 ],
 "metadata": {
  "kernelspec": {
   "display_name": "Python 3 (ipykernel)",
   "language": "python",
   "name": "python3"
  },
  "language_info": {
   "codemirror_mode": {
    "name": "ipython",
    "version": 3
   },
   "file_extension": ".py",
   "mimetype": "text/x-python",
   "name": "python",
   "nbconvert_exporter": "python",
   "pygments_lexer": "ipython3",
   "version": "3.8.10"
  }
 },
 "nbformat": 4,
 "nbformat_minor": 5
}
